{
 "cells": [
  {
   "cell_type": "code",
   "execution_count": null,
   "metadata": {},
   "outputs": [],
   "source": [
    "Introduction to for loop:"
   ]
  },
  {
   "cell_type": "code",
   "execution_count": 1,
   "metadata": {},
   "outputs": [],
   "source": [
    "Bank_Customers=['arsh','kiran','ravi','usha','bhavya','deepak']"
   ]
  },
  {
   "cell_type": "code",
   "execution_count": null,
   "metadata": {},
   "outputs": [],
   "source": [
    "#requirement:Greeting the customer ---Axis bank 6 customers\n",
    "Axis Bank wishes you a happy new year"
   ]
  },
  {
   "cell_type": "code",
   "execution_count": 2,
   "metadata": {},
   "outputs": [
    {
     "ename": "SyntaxError",
     "evalue": "EOL while scanning string literal (<ipython-input-2-c920066ad387>, line 1)",
     "output_type": "error",
     "traceback": [
      "\u001b[1;36m  File \u001b[1;32m\"<ipython-input-2-c920066ad387>\"\u001b[1;36m, line \u001b[1;32m1\u001b[0m\n\u001b[1;33m    print(f\"Axis bank wishes you a happy new year,{Bank_Customer[0].title()})\u001b[0m\n\u001b[1;37m                                                                             ^\u001b[0m\n\u001b[1;31mSyntaxError\u001b[0m\u001b[1;31m:\u001b[0m EOL while scanning string literal\n"
     ]
    }
   ],
   "source": [
    "print(f\"Axis bank wishes you a happy new year,{Bank_Customer[0].title()})"
   ]
  },
  {
   "cell_type": "code",
   "execution_count": 3,
   "metadata": {},
   "outputs": [
    {
     "ename": "NameError",
     "evalue": "name 'Bank_Customer' is not defined",
     "output_type": "error",
     "traceback": [
      "\u001b[1;31m---------------------------------------------------------------------------\u001b[0m",
      "\u001b[1;31mNameError\u001b[0m                                 Traceback (most recent call last)",
      "\u001b[1;32m<ipython-input-3-9584ee24fc17>\u001b[0m in \u001b[0;36m<module>\u001b[1;34m\u001b[0m\n\u001b[1;32m----> 1\u001b[1;33m \u001b[0mprint\u001b[0m\u001b[1;33m(\u001b[0m\u001b[1;34mf\"Axis bank wishes you a happy new year,{Bank_Customer[0].title()}\"\u001b[0m\u001b[1;33m)\u001b[0m\u001b[1;33m\u001b[0m\u001b[1;33m\u001b[0m\u001b[0m\n\u001b[0m",
      "\u001b[1;31mNameError\u001b[0m: name 'Bank_Customer' is not defined"
     ]
    }
   ],
   "source": [
    "print(f\"Axis bank wishes you a happy new year,{Bank_Customer[0].title()}\")"
   ]
  },
  {
   "cell_type": "code",
   "execution_count": 4,
   "metadata": {},
   "outputs": [
    {
     "name": "stdout",
     "output_type": "stream",
     "text": [
      "Axis bank wishes you a happy new year,Arsh\n"
     ]
    }
   ],
   "source": [
    "print(f\"Axis bank wishes you a happy new year,{Bank_Customers[0].title()}\")"
   ]
  },
  {
   "cell_type": "code",
   "execution_count": 5,
   "metadata": {},
   "outputs": [
    {
     "name": "stdout",
     "output_type": "stream",
     "text": [
      "Axis bank wishes you a happy new year,Ravi\n"
     ]
    }
   ],
   "source": [
    "print(f\"Axis bank wishes you a happy new year,{Bank_Customers[2].title()}\")"
   ]
  },
  {
   "cell_type": "code",
   "execution_count": null,
   "metadata": {},
   "outputs": [],
   "source": [
    "#To Automate the solution"
   ]
  },
  {
   "cell_type": "code",
   "execution_count": 6,
   "metadata": {},
   "outputs": [
    {
     "ename": "SyntaxError",
     "evalue": "EOL while scanning string literal (<ipython-input-6-4cda4fd3a819>, line 2)",
     "output_type": "error",
     "traceback": [
      "\u001b[1;36m  File \u001b[1;32m\"<ipython-input-6-4cda4fd3a819>\"\u001b[1;36m, line \u001b[1;32m2\u001b[0m\n\u001b[1;33m    print(f\"Axis bank wishes you a happy new year,{customer.title()})\u001b[0m\n\u001b[1;37m                                                                     ^\u001b[0m\n\u001b[1;31mSyntaxError\u001b[0m\u001b[1;31m:\u001b[0m EOL while scanning string literal\n"
     ]
    }
   ],
   "source": [
    "for customer in Bank_Customers:\n",
    "    print(f\"Axis bank wishes you a happy new year,{customer.title()})"
   ]
  },
  {
   "cell_type": "code",
   "execution_count": 7,
   "metadata": {},
   "outputs": [
    {
     "name": "stdout",
     "output_type": "stream",
     "text": [
      "Axis bank wishes you a happy new year,Arsh\n",
      "Axis bank wishes you a happy new year,Kiran\n",
      "Axis bank wishes you a happy new year,Ravi\n",
      "Axis bank wishes you a happy new year,Usha\n",
      "Axis bank wishes you a happy new year,Bhavya\n",
      "Axis bank wishes you a happy new year,Deepak\n"
     ]
    }
   ],
   "source": [
    "for customer in Bank_Customers:\n",
    "    print(f\"Axis bank wishes you a happy new year,{customer.title()}\")"
   ]
  },
  {
   "cell_type": "code",
   "execution_count": null,
   "metadata": {},
   "outputs": [],
   "source": [
    "#General syntax for :for loop \n",
    "\n",
    "for tempvar in mainvar:\n",
    "    print(tempvar)   #indentation - onetab space is required else get fail while looping"
   ]
  },
  {
   "cell_type": "code",
   "execution_count": null,
   "metadata": {},
   "outputs": [],
   "source": [
    "my_students=['mani','arasu','pichu','mani']"
   ]
  },
  {
   "cell_type": "code",
   "execution_count": 8,
   "metadata": {},
   "outputs": [
    {
     "ename": "NameError",
     "evalue": "name 'my_students' is not defined",
     "output_type": "error",
     "traceback": [
      "\u001b[1;31m---------------------------------------------------------------------------\u001b[0m",
      "\u001b[1;31mNameError\u001b[0m                                 Traceback (most recent call last)",
      "\u001b[1;32m<ipython-input-8-1088e47cfee6>\u001b[0m in \u001b[0;36m<module>\u001b[1;34m\u001b[0m\n\u001b[0;32m      1\u001b[0m \u001b[1;31m#req:to Appreciate the students\u001b[0m\u001b[1;33m\u001b[0m\u001b[1;33m\u001b[0m\u001b[1;33m\u001b[0m\u001b[0m\n\u001b[1;32m----> 2\u001b[1;33m \u001b[1;32mfor\u001b[0m \u001b[0mstudent\u001b[0m \u001b[1;32min\u001b[0m \u001b[0mmy_students\u001b[0m\u001b[1;33m:\u001b[0m\u001b[1;33m\u001b[0m\u001b[1;33m\u001b[0m\u001b[0m\n\u001b[0m\u001b[0;32m      3\u001b[0m     \u001b[0mprint\u001b[0m\u001b[1;33m(\u001b[0m\u001b[1;34mf\"keep up the gook wrok,{my_students.title()}\"\u001b[0m\u001b[1;33m)\u001b[0m\u001b[1;33m\u001b[0m\u001b[1;33m\u001b[0m\u001b[0m\n",
      "\u001b[1;31mNameError\u001b[0m: name 'my_students' is not defined"
     ]
    }
   ],
   "source": [
    "#req:to Appreciate the students\n",
    "for student in my_students:\n",
    "    print(f\"keep up the gook wrok,{my_students.title()}\")\n"
   ]
  },
  {
   "cell_type": "code",
   "execution_count": 9,
   "metadata": {},
   "outputs": [
    {
     "ename": "AttributeError",
     "evalue": "'list' object has no attribute 'title'",
     "output_type": "error",
     "traceback": [
      "\u001b[1;31m---------------------------------------------------------------------------\u001b[0m",
      "\u001b[1;31mAttributeError\u001b[0m                            Traceback (most recent call last)",
      "\u001b[1;32m<ipython-input-9-1edb4041a44c>\u001b[0m in \u001b[0;36m<module>\u001b[1;34m\u001b[0m\n\u001b[0;32m      2\u001b[0m \u001b[0mmy_students\u001b[0m\u001b[1;33m=\u001b[0m\u001b[1;33m[\u001b[0m\u001b[1;34m'mani'\u001b[0m\u001b[1;33m,\u001b[0m\u001b[1;34m'arasu'\u001b[0m\u001b[1;33m,\u001b[0m\u001b[1;34m'pichu'\u001b[0m\u001b[1;33m,\u001b[0m\u001b[1;34m'mani'\u001b[0m\u001b[1;33m]\u001b[0m\u001b[1;33m\u001b[0m\u001b[1;33m\u001b[0m\u001b[0m\n\u001b[0;32m      3\u001b[0m \u001b[1;32mfor\u001b[0m \u001b[0mstudent\u001b[0m \u001b[1;32min\u001b[0m \u001b[0mmy_students\u001b[0m\u001b[1;33m:\u001b[0m\u001b[1;33m\u001b[0m\u001b[1;33m\u001b[0m\u001b[0m\n\u001b[1;32m----> 4\u001b[1;33m     \u001b[0mprint\u001b[0m\u001b[1;33m(\u001b[0m\u001b[1;34mf\"keep up the gook wrok,{my_students.title()}\"\u001b[0m\u001b[1;33m)\u001b[0m\u001b[1;33m\u001b[0m\u001b[1;33m\u001b[0m\u001b[0m\n\u001b[0m\u001b[0;32m      5\u001b[0m \u001b[1;33m\u001b[0m\u001b[0m\n",
      "\u001b[1;31mAttributeError\u001b[0m: 'list' object has no attribute 'title'"
     ]
    }
   ],
   "source": [
    "#req:to Appreciate the students\n",
    "my_students=['mani','arasu','pichu','mani']\n",
    "for student in my_students:\n",
    "    print(f\"keep up the gook wrok,{my_students.title()}\")\n",
    "\n"
   ]
  },
  {
   "cell_type": "code",
   "execution_count": 10,
   "metadata": {},
   "outputs": [
    {
     "name": "stdout",
     "output_type": "stream",
     "text": [
      "keep up the gook wrok,Mani\n",
      "keep up the gook wrok,Arasu\n",
      "keep up the gook wrok,Pichu\n",
      "keep up the gook wrok,Mani\n"
     ]
    }
   ],
   "source": [
    "#req:to Appreciate the students\n",
    "my_students=['mani','arasu','pichu','mani']\n",
    "for student in my_students:\n",
    "    print(f\"keep up the gook wrok,{student.title()}\")"
   ]
  },
  {
   "cell_type": "code",
   "execution_count": 11,
   "metadata": {},
   "outputs": [
    {
     "name": "stdout",
     "output_type": "stream",
     "text": [
      "keep up the gook wrok,Mani\n",
      "I am waiting for your today's class work,mani\n",
      "keep up the gook wrok,Arasu\n",
      "I am waiting for your today's class work,arasu\n",
      "keep up the gook wrok,Pichu\n",
      "I am waiting for your today's class work,pichu\n",
      "keep up the gook wrok,Mani\n",
      "I am waiting for your today's class work,mani\n"
     ]
    }
   ],
   "source": [
    "#add req:I am waiting for you today's class work\n",
    "my_students=['mani','arasu','pichu','mani']\n",
    "for student in my_students:\n",
    "    print(f\"keep up the gook wrok,{student.title()}\") \n",
    "    print(f\"I am waiting for your today's class work,{student}\")"
   ]
  },
  {
   "cell_type": "code",
   "execution_count": 12,
   "metadata": {},
   "outputs": [
    {
     "name": "stdout",
     "output_type": "stream",
     "text": [
      "keep up the gook wrok,Mani\n",
      "I am waiting for your today's class work,mani.\n",
      "\n",
      "keep up the gook wrok,Arasu\n",
      "I am waiting for your today's class work,arasu.\n",
      "\n",
      "keep up the gook wrok,Pichu\n",
      "I am waiting for your today's class work,pichu.\n",
      "\n",
      "keep up the gook wrok,Mani\n",
      "I am waiting for your today's class work,mani.\n",
      "\n"
     ]
    }
   ],
   "source": [
    "##Enhance the codemy_students=['mani','arasu','pichu','mani']\n",
    "for student in my_students:\n",
    "    print(f\"keep up the gook wrok,{student.title()}\") \n",
    "    print(f\"I am waiting for your today's class work,{student}.\\n\")\n",
    "\n"
   ]
  },
  {
   "cell_type": "code",
   "execution_count": null,
   "metadata": {},
   "outputs": [],
   "source": [
    "##Enhancement of code 2:Add Thank you at the end"
   ]
  },
  {
   "cell_type": "code",
   "execution_count": 13,
   "metadata": {},
   "outputs": [
    {
     "name": "stdout",
     "output_type": "stream",
     "text": [
      "keep up the gook wrok,Mani\n",
      "I am waiting for your today's class work,mani.\n",
      "\n",
      "Thank you all\n",
      "keep up the gook wrok,Arasu\n",
      "I am waiting for your today's class work,arasu.\n",
      "\n",
      "Thank you all\n",
      "keep up the gook wrok,Pichu\n",
      "I am waiting for your today's class work,pichu.\n",
      "\n",
      "Thank you all\n",
      "keep up the gook wrok,Mani\n",
      "I am waiting for your today's class work,mani.\n",
      "\n",
      "Thank you all\n"
     ]
    }
   ],
   "source": [
    "for student in my_students:\n",
    "    print(f\"keep up the gook wrok,{student.title()}\") \n",
    "    print(f\"I am waiting for your today's class work,{student}.\\n\")\n",
    "    print('Thank you all')"
   ]
  },
  {
   "cell_type": "code",
   "execution_count": 14,
   "metadata": {},
   "outputs": [
    {
     "name": "stdout",
     "output_type": "stream",
     "text": [
      "keep up the gook wrok,Mani\n",
      "I am waiting for your today's class work,mani.\n",
      "\n",
      "Thank you all\n",
      "keep up the gook wrok,Arasu\n",
      "I am waiting for your today's class work,arasu.\n",
      "\n",
      "Thank you all\n",
      "keep up the gook wrok,Pichu\n",
      "I am waiting for your today's class work,pichu.\n",
      "\n",
      "Thank you all\n",
      "keep up the gook wrok,Mani\n",
      "I am waiting for your today's class work,mani.\n",
      "\n",
      "Thank you all\n"
     ]
    }
   ],
   "source": [
    "for student in my_students:\n",
    "    print(f\"keep up the gook wrok,{student.title()}\") \n",
    "    print(f\"I am waiting for your today's class work,{student}.\\n\")\n",
    "    \n",
    "    print(\"Thank you all\")"
   ]
  },
  {
   "cell_type": "code",
   "execution_count": 15,
   "metadata": {},
   "outputs": [
    {
     "name": "stdout",
     "output_type": "stream",
     "text": [
      "keep up the gook wrok,Mani\n",
      "I am waiting for your today's class work,mani.\n",
      "\n",
      "Thank you all\n",
      "keep up the gook wrok,Arasu\n",
      "I am waiting for your today's class work,arasu.\n",
      "\n",
      "Thank you all\n",
      "keep up the gook wrok,Pichu\n",
      "I am waiting for your today's class work,pichu.\n",
      "\n",
      "Thank you all\n",
      "keep up the gook wrok,Mani\n",
      "I am waiting for your today's class work,mani.\n",
      "\n",
      "Thank you all\n"
     ]
    }
   ],
   "source": [
    "for student in my_students:\n",
    "    print(f\"keep up the gook wrok,{student.title()}\") \n",
    "    print(f\"I am waiting for your today's class work,{student}.\\n\")\n",
    "    \n",
    "    print('Thank you all')"
   ]
  },
  {
   "cell_type": "code",
   "execution_count": 16,
   "metadata": {},
   "outputs": [
    {
     "name": "stdout",
     "output_type": "stream",
     "text": [
      "keep up the gook wrok,Mani\n",
      "I am waiting for your today's class work,mani.\n",
      "\n",
      "keep up the gook wrok,Arasu\n",
      "I am waiting for your today's class work,arasu.\n",
      "\n",
      "keep up the gook wrok,Pichu\n",
      "I am waiting for your today's class work,pichu.\n",
      "\n",
      "keep up the gook wrok,Mani\n",
      "I am waiting for your today's class work,mani.\n",
      "\n",
      "Thank you all\n"
     ]
    }
   ],
   "source": [
    "for student in my_students:\n",
    "    print(f\"keep up the gook wrok,{student.title()}\") \n",
    "    print(f\"I am waiting for your today's class work,{student}.\\n\")\n",
    "    \n",
    "print('Thank you all')###no indentation to print in final line after for loop completion"
   ]
  },
  {
   "cell_type": "code",
   "execution_count": 17,
   "metadata": {},
   "outputs": [
    {
     "name": "stdout",
     "output_type": "stream",
     "text": [
      "keep up the gook wrok,Mani\n",
      "I am waiting for your today's class work,mani.\n",
      "\n",
      "keep up the gook wrok,Arasu\n",
      "I am waiting for your today's class work,arasu.\n",
      "\n",
      "keep up the gook wrok,Pichu\n",
      "I am waiting for your today's class work,pichu.\n",
      "\n",
      "keep up the gook wrok,Mani\n",
      "I am waiting for your today's class work,mani.\n",
      "\n",
      "Thank you all\n"
     ]
    }
   ],
   "source": [
    "for student in my_students:\n",
    "    print(f\"keep up the gook wrok,{student.title()}\") \n",
    "    print(f\"I am waiting for your today's class work,{student}.\\n\")  \n",
    "print('Thank you all')"
   ]
  },
  {
   "cell_type": "code",
   "execution_count": 18,
   "metadata": {},
   "outputs": [
    {
     "ename": "SyntaxError",
     "evalue": "invalid syntax (<ipython-input-18-707c9048262b>, line 1)",
     "output_type": "error",
     "traceback": [
      "\u001b[1;36m  File \u001b[1;32m\"<ipython-input-18-707c9048262b>\"\u001b[1;36m, line \u001b[1;32m1\u001b[0m\n\u001b[1;33m    Print 'Thank you sir'\u001b[0m\n\u001b[1;37m                        ^\u001b[0m\n\u001b[1;31mSyntaxError\u001b[0m\u001b[1;31m:\u001b[0m invalid syntax\n"
     ]
    }
   ],
   "source": [
    "Print 'Thank you sir'"
   ]
  },
  {
   "cell_type": "code",
   "execution_count": 19,
   "metadata": {},
   "outputs": [
    {
     "name": "stdout",
     "output_type": "stream",
     "text": [
      "Thank you sir\n"
     ]
    }
   ],
   "source": [
    "print('Thank you sir')"
   ]
  },
  {
   "cell_type": "code",
   "execution_count": null,
   "metadata": {},
   "outputs": [],
   "source": []
  },
  {
   "cell_type": "code",
   "execution_count": null,
   "metadata": {},
   "outputs": [],
   "source": []
  },
  {
   "cell_type": "code",
   "execution_count": null,
   "metadata": {},
   "outputs": [],
   "source": []
  },
  {
   "cell_type": "code",
   "execution_count": null,
   "metadata": {},
   "outputs": [],
   "source": []
  },
  {
   "cell_type": "code",
   "execution_count": null,
   "metadata": {},
   "outputs": [],
   "source": []
  },
  {
   "cell_type": "code",
   "execution_count": null,
   "metadata": {},
   "outputs": [],
   "source": []
  },
  {
   "cell_type": "code",
   "execution_count": null,
   "metadata": {},
   "outputs": [],
   "source": []
  },
  {
   "cell_type": "code",
   "execution_count": null,
   "metadata": {},
   "outputs": [],
   "source": []
  },
  {
   "cell_type": "code",
   "execution_count": null,
   "metadata": {},
   "outputs": [],
   "source": []
  },
  {
   "cell_type": "code",
   "execution_count": null,
   "metadata": {},
   "outputs": [],
   "source": []
  }
 ],
 "metadata": {
  "kernelspec": {
   "display_name": "Python 3",
   "language": "python",
   "name": "python3"
  },
  "language_info": {
   "codemirror_mode": {
    "name": "ipython",
    "version": 3
   },
   "file_extension": ".py",
   "mimetype": "text/x-python",
   "name": "python",
   "nbconvert_exporter": "python",
   "pygments_lexer": "ipython3",
   "version": "3.7.6"
  }
 },
 "nbformat": 4,
 "nbformat_minor": 4
}
